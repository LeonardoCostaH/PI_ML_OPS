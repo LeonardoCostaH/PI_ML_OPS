{
 "cells": [
  {
   "cell_type": "code",
   "execution_count": 5,
   "metadata": {},
   "outputs": [],
   "source": [
    "import pandas as pd"
   ]
  },
  {
   "cell_type": "code",
   "execution_count": 6,
   "metadata": {},
   "outputs": [],
   "source": [
    "ruta_parquet_games = \"datasets/data_steam_games.parquet.gz\"\n",
    "ruta_parquet_reviews = \"datasets/data_reviews.parquet.gz\"\n",
    "ruta_parquet_items = \"datasets/data_items.parquet.gz\"\n",
    "\n",
    "df_games = pd.read_parquet(ruta_parquet_games)\n",
    "df_reviews = pd.read_parquet(ruta_parquet_reviews)\n",
    "df_items = pd.read_parquet(ruta_parquet_items)"
   ]
  },
  {
   "cell_type": "markdown",
   "metadata": {},
   "source": [
    "Preparación de Datos"
   ]
  },
  {
   "cell_type": "code",
   "execution_count": 7,
   "metadata": {},
   "outputs": [],
   "source": [
    "# Crear una matriz de usuario-ítem\n",
    "user_item_matrix = df_reviews.pivot(index='user_id', columns='item_id', values='recommend').fillna(0)"
   ]
  },
  {
   "cell_type": "code",
   "execution_count": null,
   "metadata": {},
   "outputs": [],
   "source": [
    "# Crear una matriz de características de género por juego\n",
    "game_genre_matrix = df_games[['item_id', 'genres']].set_index('item_id')\n",
    "\n",
    "# Aplicar la codificación one-hot para los géneros\n",
    "game_genre_matrix = game_genre_matrix['genres'].str.get_dummies(sep=', ')\n"
   ]
  },
  {
   "cell_type": "markdown",
   "metadata": {},
   "source": [
    "Calcular Similitud entre Usuarios"
   ]
  },
  {
   "cell_type": "code",
   "execution_count": 8,
   "metadata": {},
   "outputs": [],
   "source": [
    "from sklearn.metrics.pairwise import cosine_similarity\n",
    "\n",
    "# Calcular la similitud coseno entre usuarios\n",
    "user_similarity = cosine_similarity(user_item_matrix)\n",
    "user_similarity_df = pd.DataFrame(user_similarity, index=user_item_matrix.index, columns=user_item_matrix.index)\n"
   ]
  },
  {
   "cell_type": "code",
   "execution_count": null,
   "metadata": {},
   "outputs": [],
   "source": [
    "from sklearn.metrics.pairwise import cosine_similarity\n",
    "\n",
    "# Calcular la similitud del coseno entre juegos basada en género\n",
    "item_item_similarity = cosine_similarity(game_genre_matrix, game_genre_matrix)\n",
    "item_item_similarity_df = pd.DataFrame(item_item_similarity, index=game_genre_matrix.index, columns=game_genre_matrix.index)\n"
   ]
  },
  {
   "cell_type": "markdown",
   "metadata": {},
   "source": [
    "Definir la Función de Recomendación"
   ]
  },
  {
   "cell_type": "code",
   "execution_count": null,
   "metadata": {},
   "outputs": [],
   "source": [
    "from sklearn.metrics.pairwise import cosine_similarity\n",
    "\n",
    "def recomendacion_usuario(user_id: int):\n",
    "    # Obtener las calificaciones del usuario dado\n",
    "    user_ratings = user_item_matrix.loc[user_id]\n",
    "\n",
    "    # Calcular la similitud entre el usuario dado y todos los demás usuarios\n",
    "    user_similarities = user_similarity_df[user_id]\n",
    "\n",
    "    # Calcular la puntuación ponderada de juegos recomendados\n",
    "    recommended_scores = user_item_matrix.mul(user_similarities, axis=0).sum()\n",
    "\n",
    "    # Filtrar juegos que el usuario ya ha calificado\n",
    "    recommended_scores = recommended_scores[user_ratings == 0]\n",
    "\n",
    "    # Ordenar juegos por puntuación\n",
    "    recommended_games = recommended_scores.sort_values(ascending=False).index.tolist()[:5]\n",
    "\n",
    "    return {\"juegos_recomendados\": recommended_games}\n"
   ]
  },
  {
   "cell_type": "code",
   "execution_count": null,
   "metadata": {},
   "outputs": [],
   "source": [
    "def recomendacion_juego(game_id: int):\n",
    "    # Obtener la fila de similitudes para el juego dado\n",
    "    game_similarity_row = item_item_similarity_df.loc[game_id]\n",
    "\n",
    "    # Ordenar juegos por similitud\n",
    "    recommended_games = game_similarity_row.sort_values(ascending=False).index.tolist()[1:6]\n",
    "\n",
    "    return {\"juegos_recomendados\": recommended_games}\n"
   ]
  }
 ],
 "metadata": {
  "kernelspec": {
   "display_name": "Python 3",
   "language": "python",
   "name": "python3"
  },
  "language_info": {
   "codemirror_mode": {
    "name": "ipython",
    "version": 3
   },
   "file_extension": ".py",
   "mimetype": "text/x-python",
   "name": "python",
   "nbconvert_exporter": "python",
   "pygments_lexer": "ipython3",
   "version": "3.11.5"
  },
  "orig_nbformat": 4
 },
 "nbformat": 4,
 "nbformat_minor": 2
}
